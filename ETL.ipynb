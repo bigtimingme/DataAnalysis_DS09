{
 "cells": [
  {
   "cell_type": "code",
   "execution_count": 24,
   "metadata": {},
   "outputs": [],
   "source": [
    "import pandas as pd\n",
    "import matplotlib.pyplot as plt\n",
    "import seaborn as sns\n",
    "%matplotlib inline"
   ]
  },
  {
   "cell_type": "code",
   "execution_count": 25,
   "metadata": {},
   "outputs": [],
   "source": [
    "# Importamos archivos csv bajados de la pag web de Enacom.\n",
    "penetracion = pd.read_csv('archivos/penetracion.csv')\n",
    "penetracion_nacional = pd.read_csv('archivos/Penetracion_nacional.csv')\n",
    "tecnologia =pd.read_csv('archivos/Internet-tecnologia.csv')\n",
    "telefonia = pd.read_csv('archivos/telefonia_fija.csv')\n",
    "television_paga =pd.read_csv('archivos/television_paga.csv')\n",
    "velocidad = pd.read_csv('archivos/velocidad.csv')"
   ]
  },
  {
   "cell_type": "code",
   "execution_count": 3,
   "metadata": {},
   "outputs": [],
   "source": [
    "velocidad_power = velocidad\n",
    "tecnologia_power = tecnologia\n",
    "penetracion_power = penetracion\n",
    "penetracion_nacional_power =penetracion_nacional\n",
    "telefonia_power = telefonia\n",
    "television_paga_power = television_paga"
   ]
  },
  {
   "cell_type": "code",
   "execution_count": 60,
   "metadata": {},
   "outputs": [],
   "source": [
    "# Creamos una función para sacar los puntos de las columnas de cantidades al ser interpretados como decimales.\n",
    "def borrar_puntos(a):\n",
    "    return int(str(a).replace('.',''))\n",
    "\n",
    "# Aplicamos la función borrar_puntos al dataframe tecnologia.\n",
    "tecnologia['ADSL'] = tecnologia['ADSL'].apply(borrar_puntos)\n",
    "tecnologia['Cablemodem'] = tecnologia['Cablemodem'].apply(borrar_puntos)\n",
    "tecnologia['Fibra óptica'] = tecnologia['Fibra óptica'].apply(borrar_puntos)\n",
    "tecnologia['Wireless'] = tecnologia['Wireless'].apply(borrar_puntos)\n",
    "tecnologia['Total'] = tecnologia['Total'].apply(borrar_puntos)\n",
    "tecnologia.drop('Otros',axis=1,inplace=True)\n",
    "\n",
    "# Aplicamos la función borrar_puntos al dataframe telefonia.\n",
    "telefonia['Accesos telefonía fija (comercial)'] = telefonia['Accesos telefonía fija (comercial)'].apply(borrar_puntos)\n",
    "telefonia['Accesos telefonía fija (gobierno)'] = telefonia['Accesos telefonía fija (gobierno)'].apply(borrar_puntos)\n",
    "telefonia['Accesos telefonía fija (hogares)'] = telefonia['Accesos telefonía fija (hogares)'].apply(borrar_puntos)\n",
    "telefonia['Accesos telefonía fija (otros)'] = telefonia['Accesos telefonía fija (otros)'].apply(borrar_puntos)\n",
    "telefonia['Accesos telefonía fija (total)'] = telefonia['Accesos telefonía fija (total)'].apply(borrar_puntos)\n",
    "\n",
    "# Aplicamos la función borrar_puntos al dataframe television_paga.\n",
    "television_paga['Accesos TV por suscripción'] = television_paga['Accesos TV por suscripción'].apply(borrar_puntos)\n",
    "television_paga['Accesos TV satelital'] = television_paga['Accesos TV satelital'].apply(borrar_puntos)"
   ]
  },
  {
   "cell_type": "code",
   "execution_count": 61,
   "metadata": {},
   "outputs": [],
   "source": [
    "# Creamos la función puntos para reemplazar las comas por puntos.\n",
    "def puntos(a):\n",
    "    return float(str(a).replace(',','.'))\n",
    "\n",
    "# Aplicamos la función puntos en el dataframe penetracion.\n",
    "penetracion['Accesos por cada 100 hogares'] = penetracion['Accesos por cada 100 hogares'].apply(puntos)\n",
    "\n",
    "# Aplicamos la función puntos en el dataframe penetracion_nacional.\n",
    "penetracion_nacional.drop('Periodo',axis=1,inplace=True)\n",
    "penetracion_nacional['Accesos por cada 100 hogares'] = penetracion_nacional['Accesos por cada 100 hogares'].apply(puntos)\n",
    "penetracion_nacional['Accesos por cada 100 hab'] = penetracion_nacional['Accesos por cada 100 hab'].apply(puntos)\n",
    "\n",
    "# Aplicamos la función puntos en el dataframe velocidad.\n",
    "velocidad['Mbps (Media de bajada)'] = velocidad['Mbps (Media de bajada)'].apply(puntos)\n",
    "velocidad.drop('Trimestre.1',axis=1,inplace=True)"
   ]
  },
  {
   "cell_type": "code",
   "execution_count": 62,
   "metadata": {},
   "outputs": [],
   "source": [
    "# Exportamos los df para ser usados en el EDA.\n",
    "penetracion_eda = penetracion.to_csv('archivos_eda/penetracion_eda.csv')\n",
    "penetracion_nacional_eda = penetracion_nacional.to_csv('archivos_eda/penetracion_nacional_eda.csv')\n",
    "tecnologia_eda = tecnologia.to_csv('archivos_eda/tecnologia_eda.csv')\n",
    "telefonia_eda = telefonia.to_csv('archivos_eda/telefonia_fija_eda.csv')\n",
    "television_paga_eda = television_paga.to_csv('archivos_eda/television_paga_eda.csv')\n",
    "velocidad_eda = velocidad.to_csv('archivos_eda/velocidad_eda.csv')"
   ]
  },
  {
   "cell_type": "code",
   "execution_count": 26,
   "metadata": {},
   "outputs": [],
   "source": [
    "# Armamos una función para poner una fecha en cada fila de los archivos para Power Bi.\n",
    "\n",
    "def poner_fecha(a):\n",
    "    if a['Año'] == 2014 and a['Trimestre'] == 1:\n",
    "        return '1/3/2014'\n",
    "    elif a['Año'] == 2014 and a['Trimestre'] == 2:\n",
    "        return '1/6/2014'\n",
    "    elif a['Año'] == 2014 and a['Trimestre'] == 3:\n",
    "        return '1/9/2014'\n",
    "    elif a['Año'] == 2014 and a['Trimestre'] == 4:\n",
    "        return '1/12/2014'\n",
    "    elif a['Año'] == 2015 and a['Trimestre'] == 1:\n",
    "        return '1/3/2015'\n",
    "    elif a['Año'] == 2015 and a['Trimestre'] == 2:\n",
    "        return '1/6/2015'\n",
    "    elif a['Año'] == 2015 and a['Trimestre'] == 3:\n",
    "        return '1/9/2015'\n",
    "    elif a['Año'] == 2015 and a['Trimestre'] == 4:\n",
    "        return '1/12/2015'\n",
    "    elif a['Año'] == 2016 and a['Trimestre'] == 1:\n",
    "        return '1/3/2016'\n",
    "    elif a['Año'] == 2016 and a['Trimestre'] == 2:\n",
    "        return '1/6/2016'\n",
    "    elif a['Año'] == 2016 and a['Trimestre'] == 3:\n",
    "        return '1/9/2016'\n",
    "    elif a['Año'] == 2016 and a['Trimestre'] == 4:\n",
    "        return '1/12/2016'\n",
    "    elif a['Año'] == 2017 and a['Trimestre'] == 1:\n",
    "        return '1/3/2017'\n",
    "    elif a['Año'] == 2017 and a['Trimestre'] == 2:\n",
    "        return '1/6/2017'\n",
    "    elif a['Año'] == 2017 and a['Trimestre'] == 3:\n",
    "        return '1/9/2017'\n",
    "    elif a['Año'] == 2017 and a['Trimestre'] == 4:\n",
    "        return '1/12/2017'\n",
    "    elif a['Año'] == 2018 and a['Trimestre'] == 1:\n",
    "        return '1/3/2018'\n",
    "    elif a['Año'] == 2018 and a['Trimestre'] == 2:\n",
    "        return '1/6/2018'\n",
    "    elif a['Año'] == 2018 and a['Trimestre'] == 3:\n",
    "        return '1/9/2018'\n",
    "    elif a['Año'] == 2018 and a['Trimestre'] == 4:\n",
    "        return '1/12/2018'\n",
    "    elif a['Año'] == 2019 and a['Trimestre'] == 1:\n",
    "        return '1/3/2019'\n",
    "    elif a['Año'] == 2019 and a['Trimestre'] == 2:\n",
    "        return '1/6/2019'\n",
    "    elif a['Año'] == 2019 and a['Trimestre'] == 3:\n",
    "        return '1/9/2019'\n",
    "    elif a['Año'] == 2019 and a['Trimestre'] == 4:\n",
    "        return '1/12/2019'\n",
    "    elif a['Año'] == 2020 and a['Trimestre'] == 1:\n",
    "        return '1/3/2020'\n",
    "    elif a['Año'] == 2020 and a['Trimestre'] == 2:\n",
    "        return '1/6/2020'\n",
    "    elif a['Año'] == 2020 and a['Trimestre'] == 3:\n",
    "        return '1/9/2020'\n",
    "    elif a['Año'] == 2020 and a['Trimestre'] == 4:\n",
    "        return '1/12/2020'\n",
    "    elif a['Año'] == 2021 and a['Trimestre'] == 1:\n",
    "        return '1/3/2021'\n",
    "    elif a['Año'] == 2021 and a['Trimestre'] == 2:\n",
    "        return '1/6/2021'\n",
    "    elif a['Año'] == 2021 and a['Trimestre'] == 3:\n",
    "        return '1/9/2021'\n",
    "    elif a['Año'] == 2021 and a['Trimestre'] == 4:\n",
    "        return '1/12/2021'\n",
    "    elif a['Año'] == 2022 and a['Trimestre'] == 1:\n",
    "        return '1/1/2022'\n",
    "    elif a['Año'] == 2022 and a['Trimestre'] == 2:\n",
    "        return '1/6/2022'\n",
    "    elif a['Año'] == 2022 and a['Trimestre'] == 3:\n",
    "        return '1/9/2022'\n",
    "    elif a['Año'] == 2022 and a['Trimestre'] == 4:\n",
    "        return '1/12/2022'\n",
    "    "
   ]
  },
  {
   "cell_type": "code",
   "execution_count": 6,
   "metadata": {},
   "outputs": [],
   "source": [
    "#Aplicamos la función poner_fecha y creamos la columna Date en cada DataFrame.\n",
    "penetracion_nacional['Date'] = penetracion_nacional.apply(lambda row: poner_fecha(row),axis=1)\n",
    "penetracion['Date'] = penetracion.apply(lambda row: poner_fecha(row),axis=1)\n",
    "velocidad_power['Date'] = velocidad_power.apply(lambda row: poner_fecha(row),axis=1)\n",
    "television_paga_power['Date']=television_paga_power.apply (lambda row: poner_fecha(row), axis=1)\n",
    "telefonia_power['Date'] = telefonia_power.apply(lambda row: poner_fecha(row),axis=1)\n",
    "tecnologia_power['Date'] = tecnologia_power.apply(lambda row: poner_fecha(row),axis=1)"
   ]
  },
  {
   "cell_type": "code",
   "execution_count": 65,
   "metadata": {},
   "outputs": [],
   "source": [
    "# Exportamos los df para ser usados en Power Bi.\n",
    "penetracion_nacional.to_csv('penetracion_nacional_pbi.csv')\n",
    "penetracion.to_csv('penetracion_provincial_pbi.csv')\n",
    "tecnologia_power.to_csv('archivos_power_bi/tecnologia_power.csv')\n",
    "telefonia_power.to_csv('archivos_power_bi/telefonia_fija_power.csv')\n",
    "television_paga_power.to_csv('archivos_power_bi/television_paga_power.csv')\n",
    "velocidad_power.to_csv('archivos_power_bi/velocidad_power.csv')"
   ]
  }
 ],
 "metadata": {
  "kernelspec": {
   "display_name": "Python 3",
   "language": "python",
   "name": "python3"
  },
  "language_info": {
   "codemirror_mode": {
    "name": "ipython",
    "version": 3
   },
   "file_extension": ".py",
   "mimetype": "text/x-python",
   "name": "python",
   "nbconvert_exporter": "python",
   "pygments_lexer": "ipython3",
   "version": "3.10.11"
  },
  "orig_nbformat": 4
 },
 "nbformat": 4,
 "nbformat_minor": 2
}
